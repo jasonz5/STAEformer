{
 "cells": [
  {
   "cell_type": "code",
   "execution_count": 13,
   "metadata": {},
   "outputs": [],
   "source": [
    "import numpy as np\n",
    "data_name = 'NYCBike1' #'NYCBike1' 'NYCBike2' 'NYCTaxi' 'METRLA' 'PEMSBAY'"
   ]
  },
  {
   "cell_type": "markdown",
   "metadata": {},
   "source": [
    "1. 加载train/val/test.npz"
   ]
  },
  {
   "cell_type": "code",
   "execution_count": 18,
   "metadata": {},
   "outputs": [
    {
     "name": "stdout",
     "output_type": "stream",
     "text": [
      "data (86360, 128, 4) float64\n"
     ]
    }
   ],
   "source": [
    "data_train = np.load(f'./{data_name}/data.npz')\n",
    "for file in data_train.files:\n",
    "    print(file, data_train[file].shape, data_train[file].dtype)\n",
    "# print(data_train['data'][0:40,0,:])"
   ]
  },
  {
   "cell_type": "markdown",
   "metadata": {},
   "source": []
  }
 ],
 "metadata": {
  "kernelspec": {
   "display_name": "stpt",
   "language": "python",
   "name": "python3"
  },
  "language_info": {
   "codemirror_mode": {
    "name": "ipython",
    "version": 3
   },
   "file_extension": ".py",
   "mimetype": "text/x-python",
   "name": "python",
   "nbconvert_exporter": "python",
   "pygments_lexer": "ipython3",
   "version": "3.10.13"
  }
 },
 "nbformat": 4,
 "nbformat_minor": 2
}
