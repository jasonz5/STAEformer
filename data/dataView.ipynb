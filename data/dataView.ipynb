{
 "cells": [
  {
   "cell_type": "code",
   "execution_count": 7,
   "metadata": {},
   "outputs": [],
   "source": [
    "import numpy as np\n",
    "data_name = 'NYCBike1' #'NYCBike1' 'NYCBike2' 'NYCTaxi' 'METRLA' 'PEMSBAY'"
   ]
  },
  {
   "cell_type": "markdown",
   "metadata": {},
   "source": [
    "1. 加载train/val/test.npz"
   ]
  },
  {
   "cell_type": "code",
   "execution_count": 10,
   "metadata": {},
   "outputs": [
    {
     "name": "stdout",
     "output_type": "stream",
     "text": [
      "data (86360, 128, 4) float64\n"
     ]
    }
   ],
   "source": [
    "data = np.load(f'./{data_name}/data.npz')\n",
    "for file in data.files:\n",
    "    print(file, data[file].shape, data[file].dtype)"
   ]
  },
  {
   "cell_type": "code",
   "execution_count": 11,
   "metadata": {},
   "outputs": [
    {
     "name": "stdout",
     "output_type": "stream",
     "text": [
      "train (3023, 3) int64\n",
      "val (431, 3) int64\n",
      "test (864, 3) int64\n"
     ]
    }
   ],
   "source": [
    "index = np.load(f'./{data_name}/index.npz')\n",
    "for file in index.files:\n",
    "    print(file, index[file].shape, index[file].dtype)\n",
    "# print(data_train['data'][0:40,0,:])"
   ]
  },
  {
   "cell_type": "markdown",
   "metadata": {},
   "source": []
  }
 ],
 "metadata": {
  "kernelspec": {
   "display_name": "stpt",
   "language": "python",
   "name": "python3"
  },
  "language_info": {
   "codemirror_mode": {
    "name": "ipython",
    "version": 3
   },
   "file_extension": ".py",
   "mimetype": "text/x-python",
   "name": "python",
   "nbconvert_exporter": "python",
   "pygments_lexer": "ipython3",
   "version": "3.10.14"
  }
 },
 "nbformat": 4,
 "nbformat_minor": 2
}
