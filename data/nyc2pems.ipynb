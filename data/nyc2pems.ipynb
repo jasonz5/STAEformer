{
 "cells": [
  {
   "cell_type": "markdown",
   "metadata": {},
   "source": []
  },
  {
   "cell_type": "markdown",
   "metadata": {},
   "source": [
    "将train/val/test.npz -> data/index.npz"
   ]
  },
  {
   "cell_type": "code",
   "execution_count": null,
   "metadata": {},
   "outputs": [],
   "source": [
    "'''\n",
    "train/val/test.npz: x,y [B,T_in,N,D] [B,T_out,N,D] \n",
    "data.npz: data [B,N,D]   index.npz: train/val/test [B,3] \n",
    "'''"
   ]
  },
  {
   "cell_type": "code",
   "execution_count": null,
   "metadata": {},
   "outputs": [],
   "source": [
    "import numpy as np\n",
    "data_name = 'NYCTaxi' #'NYCBike1' 'NYCBike2' 'NYCTaxi' 'METRLA' 'PEMSBAY'\n",
    "data_train = np.load(f'./{data_name}/train.npz')\n",
    "data_val = np.load(f'./{data_name}/val.npz')\n",
    "data_test = np.load(f'./{data_name}/test.npz')"
   ]
  },
  {
   "cell_type": "code",
   "execution_count": null,
   "metadata": {},
   "outputs": [],
   "source": [
    "x_train = data_train['x']\n",
    "y_train = data_train['y']\n",
    "x_val = data_val['x']\n",
    "y_val = data_val['y']\n",
    "x_test = data_test['x']\n",
    "y_test = data_test['y']"
   ]
  },
  {
   "cell_type": "markdown",
   "metadata": {},
   "source": [
    "1. 获取data.npz"
   ]
  },
  {
   "cell_type": "code",
   "execution_count": null,
   "metadata": {},
   "outputs": [],
   "source": [
    "def merge_x_y(x_data, y_data):\n",
    "    merged = np.concatenate((x_data, y_data), axis=1)\n",
    "    return merged\n",
    "\n",
    "train_merged = merge_x_y(x_train, y_train)\n",
    "val_merged = merge_x_y(x_val, y_val)\n",
    "test_merged = merge_x_y(x_test, y_test)\n",
    "\n",
    "all_data = np.concatenate((train_merged, val_merged, test_merged), axis=0) # [B, T, N, D]\n",
    "print(all_data.shape)"
   ]
  },
  {
   "cell_type": "code",
   "execution_count": null,
   "metadata": {},
   "outputs": [],
   "source": [
    "all_data = all_data.reshape(-1, all_data.shape[2], all_data.shape[3])  # (B*T, N, D)\n",
    "print(all_data.shape)\n",
    "\n",
    "np.savez_compressed(f'./{data_name}/data.npz', data=all_data)"
   ]
  },
  {
   "cell_type": "markdown",
   "metadata": {},
   "source": [
    "2. 获取index.npz\n"
   ]
  },
  {
   "cell_type": "code",
   "execution_count": null,
   "metadata": {},
   "outputs": [],
   "source": [
    "num_train = data_train['x'].shape[0]\n",
    "num_val = data_val['x'].shape[0]\n",
    "num_test = data_test['x'].shape[0]\n",
    "\n",
    "time_interval = 20 if data_name=='NYCBike1' else 36\n",
    "# 创建索引函数，添加了起始索引\n",
    "def create_indices(num_samples, time_interval, start_index=0):\n",
    "    indices = np.zeros((num_samples, 3), dtype=int)\n",
    "    for i in range(num_samples):\n",
    "        base_index = start_index + i * time_interval\n",
    "        indices[i, 0] = base_index \n",
    "        indices[i, 1] = base_index + time_interval - 1\n",
    "        indices[i, 2] = base_index + time_interval\n",
    "    return indices\n",
    "\n",
    "\n",
    "start_index_val = num_train * time_interval\n",
    "start_index_test = start_index_val + num_val * time_interval\n",
    "\n",
    "train_indices = create_indices(num_train, time_interval)\n",
    "val_indices = create_indices(num_val, time_interval, start_index_val)\n",
    "test_indices = create_indices(num_test, time_interval, start_index_test)\n",
    "\n",
    "np.savez_compressed(f'./{data_name}/index.npz', train=train_indices, val=val_indices, test=test_indices)"
   ]
  }
 ],
 "metadata": {
  "kernelspec": {
   "display_name": "stpt",
   "language": "python",
   "name": "python3"
  },
  "language_info": {
   "codemirror_mode": {
    "name": "ipython",
    "version": 3
   },
   "file_extension": ".py",
   "mimetype": "text/x-python",
   "name": "python",
   "nbconvert_exporter": "python",
   "pygments_lexer": "ipython3",
   "version": "3.10.13"
  }
 },
 "nbformat": 4,
 "nbformat_minor": 2
}
